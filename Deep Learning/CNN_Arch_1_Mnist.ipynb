{
  "nbformat": 4,
  "nbformat_minor": 0,
  "metadata": {
    "colab": {
      "provenance": [],
      "gpuType": "T4"
    },
    "kernelspec": {
      "name": "python3",
      "display_name": "Python 3"
    },
    "language_info": {
      "name": "python"
    },
    "accelerator": "GPU"
  },
  "cells": [
    {
      "cell_type": "code",
      "execution_count": 2,
      "metadata": {
        "id": "fFTOOs8vcHP4"
      },
      "outputs": [],
      "source": [
        "import tensorflow as tf\n",
        "from tensorflow import keras\n",
        "from keras.datasets import mnist\n",
        "from keras.layers import Dense, Flatten, Conv2D, AveragePooling2D\n",
        "from keras.models import Sequential"
      ]
    },
    {
      "cell_type": "code",
      "source": [
        "(x_train,y_train),(x_test,y_test) = mnist.load_data()"
      ],
      "metadata": {
        "colab": {
          "base_uri": "https://localhost:8080/"
        },
        "id": "U3Ljm8DkcZy8",
        "outputId": "d6761a30-d76e-45ab-a767-9364fb17016f"
      },
      "execution_count": 3,
      "outputs": [
        {
          "output_type": "stream",
          "name": "stdout",
          "text": [
            "Downloading data from https://storage.googleapis.com/tensorflow/tf-keras-datasets/mnist.npz\n",
            "11490434/11490434 [==============================] - 0s 0us/step\n"
          ]
        }
      ]
    },
    {
      "cell_type": "code",
      "source": [
        "x_train.shape"
      ],
      "metadata": {
        "colab": {
          "base_uri": "https://localhost:8080/"
        },
        "id": "nfBnGfOqcw99",
        "outputId": "fdcfcfe3-9ae2-4c4c-b2a0-45c7a4fa3470"
      },
      "execution_count": 4,
      "outputs": [
        {
          "output_type": "execute_result",
          "data": {
            "text/plain": [
              "(60000, 28, 28)"
            ]
          },
          "metadata": {},
          "execution_count": 4
        }
      ]
    },
    {
      "cell_type": "code",
      "source": [
        "x_train = x_train.reshape(x_train.shape[0],28,28,1)\n",
        "x_test = x_test.reshape(x_test.shape[0],28,28,1)"
      ],
      "metadata": {
        "id": "oRmnXOOoc5gR"
      },
      "execution_count": 5,
      "outputs": []
    },
    {
      "cell_type": "code",
      "source": [
        "x_train = x_train/255\n",
        "x_test = x_test/255"
      ],
      "metadata": {
        "id": "u4_tTZXydRme"
      },
      "execution_count": 6,
      "outputs": []
    },
    {
      "cell_type": "code",
      "source": [
        "y_train = keras.utils.to_categorical(y_train, 10)\n",
        "y_test = keras.utils.to_categorical(y_test, 10)"
      ],
      "metadata": {
        "id": "OpfWaP8kd6BP"
      },
      "execution_count": 7,
      "outputs": []
    },
    {
      "cell_type": "code",
      "source": [
        "model = Sequential()\n",
        "model.add(Conv2D(6,kernel_size=(5,5),padding='valid',activation='tanh',input_shape=(28,28,1)))\n",
        "model.add(AveragePooling2D(pool_size=(2,2),strides=4,padding='valid'))\n",
        "\n",
        "model.add(Conv2D(16,kernel_size=(5,5),padding='valid',activation='tanh'))\n",
        "model.add(AveragePooling2D(pool_size=(2,2),strides=4,padding='valid'))\n",
        "\n",
        "model.add(Flatten())\n",
        "model.add(Dense(64,activation='tanh'))\n",
        "model.add(Dense(56,activation='tanh'))\n",
        "model.add(Dense(10,activation='softmax'))\n",
        "\n",
        "model.summary()"
      ],
      "metadata": {
        "colab": {
          "base_uri": "https://localhost:8080/"
        },
        "id": "jZ3qTQFgfBXz",
        "outputId": "7fc05ed6-1fc6-43e2-d45e-79a509a792b6"
      },
      "execution_count": 40,
      "outputs": [
        {
          "output_type": "stream",
          "name": "stdout",
          "text": [
            "Model: \"sequential_23\"\n",
            "_________________________________________________________________\n",
            " Layer (type)                Output Shape              Param #   \n",
            "=================================================================\n",
            " conv2d_46 (Conv2D)          (None, 24, 24, 6)         156       \n",
            "                                                                 \n",
            " average_pooling2d_46 (Avera  (None, 6, 6, 6)          0         \n",
            " gePooling2D)                                                    \n",
            "                                                                 \n",
            " conv2d_47 (Conv2D)          (None, 2, 2, 16)          2416      \n",
            "                                                                 \n",
            " average_pooling2d_47 (Avera  (None, 1, 1, 16)         0         \n",
            " gePooling2D)                                                    \n",
            "                                                                 \n",
            " flatten_23 (Flatten)        (None, 16)                0         \n",
            "                                                                 \n",
            " dense_69 (Dense)            (None, 64)                1088      \n",
            "                                                                 \n",
            " dense_70 (Dense)            (None, 56)                3640      \n",
            "                                                                 \n",
            " dense_71 (Dense)            (None, 10)                570       \n",
            "                                                                 \n",
            "=================================================================\n",
            "Total params: 7,870\n",
            "Trainable params: 7,870\n",
            "Non-trainable params: 0\n",
            "_________________________________________________________________\n"
          ]
        }
      ]
    },
    {
      "cell_type": "code",
      "source": [
        "model.compile(optimizer=keras.optimizers.Adam(),loss=keras.metrics.categorical_crossentropy,metrics=['accuracy'])"
      ],
      "metadata": {
        "id": "GuaFnYhUfoi5"
      },
      "execution_count": 38,
      "outputs": []
    },
    {
      "cell_type": "code",
      "source": [
        "model.fit(x_train,y_train,batch_size=128,epochs=10,verbose=1,validation_data=(x_test,y_test))"
      ],
      "metadata": {
        "colab": {
          "base_uri": "https://localhost:8080/"
        },
        "id": "ikQXZ790h8cf",
        "outputId": "ea664ab4-b6c9-4361-b5c7-d2cde9eb5ede"
      },
      "execution_count": 39,
      "outputs": [
        {
          "output_type": "stream",
          "name": "stdout",
          "text": [
            "Epoch 1/10\n",
            "469/469 [==============================] - 21s 43ms/step - loss: 0.7430 - accuracy: 0.7668 - val_loss: 0.3661 - val_accuracy: 0.8862\n",
            "Epoch 2/10\n",
            "469/469 [==============================] - 19s 40ms/step - loss: 0.2913 - accuracy: 0.9108 - val_loss: 0.2273 - val_accuracy: 0.9337\n",
            "Epoch 3/10\n",
            "469/469 [==============================] - 20s 43ms/step - loss: 0.2014 - accuracy: 0.9387 - val_loss: 0.1686 - val_accuracy: 0.9500\n",
            "Epoch 4/10\n",
            "469/469 [==============================] - 18s 39ms/step - loss: 0.1609 - accuracy: 0.9510 - val_loss: 0.1508 - val_accuracy: 0.9539\n",
            "Epoch 5/10\n",
            "469/469 [==============================] - 20s 43ms/step - loss: 0.1383 - accuracy: 0.9576 - val_loss: 0.1281 - val_accuracy: 0.9596\n",
            "Epoch 6/10\n",
            "469/469 [==============================] - 19s 40ms/step - loss: 0.1211 - accuracy: 0.9623 - val_loss: 0.1166 - val_accuracy: 0.9640\n",
            "Epoch 7/10\n",
            "469/469 [==============================] - 20s 42ms/step - loss: 0.1084 - accuracy: 0.9664 - val_loss: 0.0998 - val_accuracy: 0.9672\n",
            "Epoch 8/10\n",
            "469/469 [==============================] - 19s 40ms/step - loss: 0.0980 - accuracy: 0.9696 - val_loss: 0.0924 - val_accuracy: 0.9714\n",
            "Epoch 9/10\n",
            "469/469 [==============================] - 20s 43ms/step - loss: 0.0906 - accuracy: 0.9724 - val_loss: 0.0822 - val_accuracy: 0.9738\n",
            "Epoch 10/10\n",
            "469/469 [==============================] - 19s 40ms/step - loss: 0.0849 - accuracy: 0.9738 - val_loss: 0.0797 - val_accuracy: 0.9754\n"
          ]
        },
        {
          "output_type": "execute_result",
          "data": {
            "text/plain": [
              "<keras.callbacks.History at 0x7fc0112d5150>"
            ]
          },
          "metadata": {},
          "execution_count": 39
        }
      ]
    },
    {
      "cell_type": "code",
      "source": [
        "score = model.evaluate(x_test,y_test)\n",
        "print('Test Loss:',score[0])\n",
        "print('Test Accuracy', score[1])"
      ],
      "metadata": {
        "colab": {
          "base_uri": "https://localhost:8080/"
        },
        "id": "2VkFU_7JiUtH",
        "outputId": "eaae36a1-3f42-4f78-9dad-8b7a13161d84"
      },
      "execution_count": 16,
      "outputs": [
        {
          "output_type": "stream",
          "name": "stdout",
          "text": [
            "313/313 [==============================] - 2s 5ms/step - loss: 0.0791 - accuracy: 0.9753\n",
            "Test Loss: 0.07906071096658707\n",
            "Test Accuracy 0.9753000140190125\n"
          ]
        }
      ]
    },
    {
      "cell_type": "code",
      "source": [
        "prediction = model.predict(x_test)"
      ],
      "metadata": {
        "colab": {
          "base_uri": "https://localhost:8080/"
        },
        "id": "reglTLZZjE97",
        "outputId": "0c1df624-3a2a-4440-c4b5-bd9ccfcbb97e"
      },
      "execution_count": 17,
      "outputs": [
        {
          "output_type": "stream",
          "name": "stdout",
          "text": [
            "313/313 [==============================] - 2s 8ms/step\n"
          ]
        }
      ]
    },
    {
      "cell_type": "code",
      "source": [
        "import numpy as np\n",
        "pred_img = np.argmax(prediction[4])\n",
        "pred_img"
      ],
      "metadata": {
        "colab": {
          "base_uri": "https://localhost:8080/"
        },
        "id": "1vzI3QKHjgdR",
        "outputId": "e6fb35b9-68d3-45d5-ef3f-48bae0eca550"
      },
      "execution_count": 18,
      "outputs": [
        {
          "output_type": "execute_result",
          "data": {
            "text/plain": [
              "4"
            ]
          },
          "metadata": {},
          "execution_count": 18
        }
      ]
    },
    {
      "cell_type": "code",
      "source": [],
      "metadata": {
        "id": "pF1K23z7jj7J"
      },
      "execution_count": null,
      "outputs": []
    }
  ]
}