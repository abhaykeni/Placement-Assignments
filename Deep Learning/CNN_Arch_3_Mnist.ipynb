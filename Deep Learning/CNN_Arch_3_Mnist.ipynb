{
  "nbformat": 4,
  "nbformat_minor": 0,
  "metadata": {
    "colab": {
      "provenance": []
    },
    "kernelspec": {
      "name": "python3",
      "display_name": "Python 3"
    },
    "language_info": {
      "name": "python"
    }
  },
  "cells": [
    {
      "cell_type": "code",
      "execution_count": 1,
      "metadata": {
        "id": "8n2PJa4w1wll"
      },
      "outputs": [],
      "source": [
        "import tensorflow as tf\n",
        "from tensorflow import keras\n",
        "from keras.datasets import mnist\n",
        "from keras.layers import Dense, Flatten, Conv2D, MaxPooling2D\n",
        "from keras.models import Sequential"
      ]
    },
    {
      "cell_type": "code",
      "source": [
        "(x_train,y_train),(x_test,y_test) = mnist.load_data()"
      ],
      "metadata": {
        "colab": {
          "base_uri": "https://localhost:8080/"
        },
        "id": "6GjLsfdk10zq",
        "outputId": "79fa2e58-50e5-41fe-bae6-2fb82ad7d16d"
      },
      "execution_count": 2,
      "outputs": [
        {
          "output_type": "stream",
          "name": "stdout",
          "text": [
            "Downloading data from https://storage.googleapis.com/tensorflow/tf-keras-datasets/mnist.npz\n",
            "11490434/11490434 [==============================] - 0s 0us/step\n"
          ]
        }
      ]
    },
    {
      "cell_type": "code",
      "source": [
        "x_train.shape"
      ],
      "metadata": {
        "colab": {
          "base_uri": "https://localhost:8080/"
        },
        "id": "NF46X3UP12dz",
        "outputId": "db024956-c450-4347-f83a-6994c8126624"
      },
      "execution_count": 3,
      "outputs": [
        {
          "output_type": "execute_result",
          "data": {
            "text/plain": [
              "(60000, 28, 28)"
            ]
          },
          "metadata": {},
          "execution_count": 3
        }
      ]
    },
    {
      "cell_type": "code",
      "source": [
        "x_train = x_train.reshape(x_train.shape[0],28,28,1)\n",
        "x_test = x_test.reshape(x_test.shape[0],28,28,1)"
      ],
      "metadata": {
        "id": "SUW0pUaL135p"
      },
      "execution_count": 4,
      "outputs": []
    },
    {
      "cell_type": "code",
      "source": [
        "x_train = x_train/255\n",
        "x_test = x_test/255"
      ],
      "metadata": {
        "id": "8mC0TIX215TC"
      },
      "execution_count": 5,
      "outputs": []
    },
    {
      "cell_type": "code",
      "source": [
        "y_train = keras.utils.to_categorical(y_train, 10)\n",
        "y_test = keras.utils.to_categorical(y_test, 10)"
      ],
      "metadata": {
        "id": "-ukz8ZEs168I"
      },
      "execution_count": 6,
      "outputs": []
    },
    {
      "cell_type": "code",
      "source": [
        "model = Sequential()\n",
        "model.add(Conv2D(6,kernel_size=(7,7),padding='valid',activation='relu',input_shape=(28,28,1)))\n",
        "model.add(MaxPooling2D(pool_size=(3,3),strides=2,padding='valid'))\n",
        "\n",
        "model.add(Conv2D(12,kernel_size=(7,7),padding='valid',activation='relu'))\n",
        "model.add(MaxPooling2D(pool_size=(3,3),strides=2,padding='valid'))\n",
        "\n",
        "model.add(Flatten())\n",
        "model.add(Dense(58,activation='relu'))\n",
        "model.add(Dense(48,activation='relu'))\n",
        "model.add(Dense(10,activation='softmax'))\n",
        "\n",
        "model.summary()"
      ],
      "metadata": {
        "colab": {
          "base_uri": "https://localhost:8080/"
        },
        "id": "dav2Hqec2BCi",
        "outputId": "240b84b4-51e3-4d56-a8f9-70fc8e0920d5"
      },
      "execution_count": 19,
      "outputs": [
        {
          "output_type": "stream",
          "name": "stdout",
          "text": [
            "Model: \"sequential_12\"\n",
            "_________________________________________________________________\n",
            " Layer (type)                Output Shape              Param #   \n",
            "=================================================================\n",
            " conv2d_24 (Conv2D)          (None, 22, 22, 6)         300       \n",
            "                                                                 \n",
            " max_pooling2d_24 (MaxPoolin  (None, 10, 10, 6)        0         \n",
            " g2D)                                                            \n",
            "                                                                 \n",
            " conv2d_25 (Conv2D)          (None, 4, 4, 12)          3540      \n",
            "                                                                 \n",
            " max_pooling2d_25 (MaxPoolin  (None, 1, 1, 12)         0         \n",
            " g2D)                                                            \n",
            "                                                                 \n",
            " flatten_10 (Flatten)        (None, 12)                0         \n",
            "                                                                 \n",
            " dense_30 (Dense)            (None, 58)                754       \n",
            "                                                                 \n",
            " dense_31 (Dense)            (None, 48)                2832      \n",
            "                                                                 \n",
            " dense_32 (Dense)            (None, 10)                490       \n",
            "                                                                 \n",
            "=================================================================\n",
            "Total params: 7,916\n",
            "Trainable params: 7,916\n",
            "Non-trainable params: 0\n",
            "_________________________________________________________________\n"
          ]
        }
      ]
    },
    {
      "cell_type": "code",
      "source": [
        "model.compile(optimizer=keras.optimizers.Adam(),loss=keras.metrics.categorical_crossentropy,metrics=['accuracy'])"
      ],
      "metadata": {
        "id": "tgiywMz72Ppc"
      },
      "execution_count": 20,
      "outputs": []
    },
    {
      "cell_type": "code",
      "source": [
        "model.fit(x_train,y_train,batch_size=128,epochs=10,verbose=1,validation_data=(x_test,y_test))"
      ],
      "metadata": {
        "colab": {
          "base_uri": "https://localhost:8080/"
        },
        "id": "DOqEsUC-3oX5",
        "outputId": "a8a124c2-6d4e-4dd1-916a-762060119a7a"
      },
      "execution_count": 21,
      "outputs": [
        {
          "output_type": "stream",
          "name": "stdout",
          "text": [
            "Epoch 1/10\n",
            "469/469 [==============================] - 21s 40ms/step - loss: 0.5776 - accuracy: 0.8286 - val_loss: 0.2359 - val_accuracy: 0.9271\n",
            "Epoch 2/10\n",
            "469/469 [==============================] - 19s 41ms/step - loss: 0.1999 - accuracy: 0.9398 - val_loss: 0.1623 - val_accuracy: 0.9507\n",
            "Epoch 3/10\n",
            "469/469 [==============================] - 19s 39ms/step - loss: 0.1419 - accuracy: 0.9579 - val_loss: 0.1198 - val_accuracy: 0.9619\n",
            "Epoch 4/10\n",
            "469/469 [==============================] - 19s 41ms/step - loss: 0.1157 - accuracy: 0.9650 - val_loss: 0.0952 - val_accuracy: 0.9708\n",
            "Epoch 5/10\n",
            "469/469 [==============================] - 19s 41ms/step - loss: 0.0992 - accuracy: 0.9698 - val_loss: 0.0788 - val_accuracy: 0.9760\n",
            "Epoch 6/10\n",
            "469/469 [==============================] - 18s 39ms/step - loss: 0.0903 - accuracy: 0.9721 - val_loss: 0.0715 - val_accuracy: 0.9776\n",
            "Epoch 7/10\n",
            "469/469 [==============================] - 19s 41ms/step - loss: 0.0796 - accuracy: 0.9760 - val_loss: 0.0723 - val_accuracy: 0.9775\n",
            "Epoch 8/10\n",
            "469/469 [==============================] - 18s 39ms/step - loss: 0.0740 - accuracy: 0.9776 - val_loss: 0.0695 - val_accuracy: 0.9782\n",
            "Epoch 9/10\n",
            "469/469 [==============================] - 19s 41ms/step - loss: 0.0679 - accuracy: 0.9794 - val_loss: 0.0596 - val_accuracy: 0.9815\n",
            "Epoch 10/10\n",
            "469/469 [==============================] - 19s 41ms/step - loss: 0.0631 - accuracy: 0.9811 - val_loss: 0.0603 - val_accuracy: 0.9797\n"
          ]
        },
        {
          "output_type": "execute_result",
          "data": {
            "text/plain": [
              "<keras.callbacks.History at 0x7eff10983160>"
            ]
          },
          "metadata": {},
          "execution_count": 21
        }
      ]
    },
    {
      "cell_type": "code",
      "source": [
        "score = model.evaluate(x_test,y_test)\n",
        "print('Test Loss:',score[0])\n",
        "print('Test Accuracy', score[1])"
      ],
      "metadata": {
        "colab": {
          "base_uri": "https://localhost:8080/"
        },
        "id": "RgPq-BgW3qJS",
        "outputId": "549a5218-9513-4d9e-fcee-43134bc5f669"
      },
      "execution_count": 22,
      "outputs": [
        {
          "output_type": "stream",
          "name": "stdout",
          "text": [
            "313/313 [==============================] - 2s 6ms/step - loss: 0.0603 - accuracy: 0.9797\n",
            "Test Loss: 0.060279518365859985\n",
            "Test Accuracy 0.9797000288963318\n"
          ]
        }
      ]
    },
    {
      "cell_type": "code",
      "source": [
        "prediction = model.predict(x_test)"
      ],
      "metadata": {
        "colab": {
          "base_uri": "https://localhost:8080/"
        },
        "id": "nKV94zIA6QHb",
        "outputId": "96a36ef8-edaf-4107-dee1-0f93e5c14448"
      },
      "execution_count": 23,
      "outputs": [
        {
          "output_type": "stream",
          "name": "stdout",
          "text": [
            "313/313 [==============================] - 2s 5ms/step\n"
          ]
        }
      ]
    },
    {
      "cell_type": "code",
      "source": [
        "import numpy as np\n",
        "pred_img = np.argmax(prediction[4])\n",
        "pred_img"
      ],
      "metadata": {
        "colab": {
          "base_uri": "https://localhost:8080/"
        },
        "id": "_5qLD4OO6SV7",
        "outputId": "7000e7d7-3cd2-4a6f-9fde-78c32734ba8c"
      },
      "execution_count": 24,
      "outputs": [
        {
          "output_type": "execute_result",
          "data": {
            "text/plain": [
              "4"
            ]
          },
          "metadata": {},
          "execution_count": 24
        }
      ]
    },
    {
      "cell_type": "code",
      "source": [],
      "metadata": {
        "id": "bjREnOrX6Uai"
      },
      "execution_count": null,
      "outputs": []
    }
  ]
}