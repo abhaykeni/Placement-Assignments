{
  "nbformat": 4,
  "nbformat_minor": 0,
  "metadata": {
    "colab": {
      "provenance": []
    },
    "kernelspec": {
      "name": "python3",
      "display_name": "Python 3"
    },
    "language_info": {
      "name": "python"
    }
  },
  "cells": [
    {
      "cell_type": "code",
      "execution_count": 2,
      "metadata": {
        "id": "7SO7ceV5zSzH"
      },
      "outputs": [],
      "source": [
        "import tensorflow as tf\n",
        "from tensorflow import keras\n",
        "from keras.datasets import mnist\n",
        "from keras.layers import Dense, Flatten, Conv2D, MaxPooling2D\n",
        "from keras.models import Sequential"
      ]
    },
    {
      "cell_type": "code",
      "source": [
        "(x_train,y_train),(x_test,y_test) = mnist.load_data()"
      ],
      "metadata": {
        "colab": {
          "base_uri": "https://localhost:8080/"
        },
        "id": "NdhgiCIkzZZQ",
        "outputId": "d1dfba89-4e01-4d87-82fb-e0bc8a79147e"
      },
      "execution_count": 3,
      "outputs": [
        {
          "output_type": "stream",
          "name": "stdout",
          "text": [
            "Downloading data from https://storage.googleapis.com/tensorflow/tf-keras-datasets/mnist.npz\n",
            "11490434/11490434 [==============================] - 0s 0us/step\n"
          ]
        }
      ]
    },
    {
      "cell_type": "code",
      "source": [
        "x_train.shape"
      ],
      "metadata": {
        "colab": {
          "base_uri": "https://localhost:8080/"
        },
        "id": "4AKt9PghzkML",
        "outputId": "9b4d15d3-de36-4386-cec6-5cc5c0e46be9"
      },
      "execution_count": 4,
      "outputs": [
        {
          "output_type": "execute_result",
          "data": {
            "text/plain": [
              "(60000, 28, 28)"
            ]
          },
          "metadata": {},
          "execution_count": 4
        }
      ]
    },
    {
      "cell_type": "code",
      "source": [
        "x_train = x_train.reshape(x_train.shape[0],28,28,1)\n",
        "x_test = x_test.reshape(x_test.shape[0],28,28,1)"
      ],
      "metadata": {
        "id": "SVjUm-MczlcQ"
      },
      "execution_count": 5,
      "outputs": []
    },
    {
      "cell_type": "code",
      "source": [
        "x_train = x_train/255\n",
        "x_test = x_test/255"
      ],
      "metadata": {
        "id": "smQJ_QIJznFX"
      },
      "execution_count": 6,
      "outputs": []
    },
    {
      "cell_type": "code",
      "source": [
        "y_train = keras.utils.to_categorical(y_train, 10)\n",
        "y_test = keras.utils.to_categorical(y_test, 10)"
      ],
      "metadata": {
        "id": "kgghYx04zomb"
      },
      "execution_count": 7,
      "outputs": []
    },
    {
      "cell_type": "code",
      "source": [
        "model = Sequential()\n",
        "model.add(Conv2D(6,kernel_size=(7,7),padding='valid',activation='tanh',input_shape=(28,28,1)))\n",
        "model.add(MaxPooling2D(pool_size=(2,2),strides=4,padding='valid'))\n",
        "\n",
        "model.add(Conv2D(16,kernel_size=(5,5),padding='valid',activation='tanh'))\n",
        "model.add(MaxPooling2D(pool_size=(2,2),strides=4,padding='valid'))\n",
        "\n",
        "model.add(Flatten())\n",
        "model.add(Dense(64,activation='tanh'))\n",
        "model.add(Dense(55,activation='tanh'))\n",
        "model.add(Dense(10,activation='softmax'))\n",
        "\n",
        "model.summary()"
      ],
      "metadata": {
        "colab": {
          "base_uri": "https://localhost:8080/"
        },
        "id": "MwaIabjMzqOq",
        "outputId": "f7187b17-aca5-4cae-f47f-0815f1e8a680"
      },
      "execution_count": 21,
      "outputs": [
        {
          "output_type": "stream",
          "name": "stdout",
          "text": [
            "Model: \"sequential_8\"\n",
            "_________________________________________________________________\n",
            " Layer (type)                Output Shape              Param #   \n",
            "=================================================================\n",
            " conv2d_16 (Conv2D)          (None, 22, 22, 6)         300       \n",
            "                                                                 \n",
            " max_pooling2d_15 (MaxPoolin  (None, 6, 6, 6)          0         \n",
            " g2D)                                                            \n",
            "                                                                 \n",
            " conv2d_17 (Conv2D)          (None, 2, 2, 16)          2416      \n",
            "                                                                 \n",
            " max_pooling2d_16 (MaxPoolin  (None, 1, 1, 16)         0         \n",
            " g2D)                                                            \n",
            "                                                                 \n",
            " flatten_5 (Flatten)         (None, 16)                0         \n",
            "                                                                 \n",
            " dense_15 (Dense)            (None, 64)                1088      \n",
            "                                                                 \n",
            " dense_16 (Dense)            (None, 55)                3575      \n",
            "                                                                 \n",
            " dense_17 (Dense)            (None, 10)                560       \n",
            "                                                                 \n",
            "=================================================================\n",
            "Total params: 7,939\n",
            "Trainable params: 7,939\n",
            "Non-trainable params: 0\n",
            "_________________________________________________________________\n"
          ]
        }
      ]
    },
    {
      "cell_type": "code",
      "source": [
        "model.compile(optimizer=keras.optimizers.Adam(),loss=keras.metrics.categorical_crossentropy,metrics=['accuracy'])"
      ],
      "metadata": {
        "id": "SzxSDgwNzxFr"
      },
      "execution_count": 22,
      "outputs": []
    },
    {
      "cell_type": "code",
      "source": [
        "model.fit(x_train,y_train,batch_size=128,epochs=10,verbose=1,validation_data=(x_test,y_test))"
      ],
      "metadata": {
        "colab": {
          "base_uri": "https://localhost:8080/"
        },
        "id": "34GMT08nz7ND",
        "outputId": "af959bec-cc25-466b-9fee-126d84e332af"
      },
      "execution_count": 23,
      "outputs": [
        {
          "output_type": "stream",
          "name": "stdout",
          "text": [
            "Epoch 1/10\n",
            "469/469 [==============================] - 29s 60ms/step - loss: 0.5359 - accuracy: 0.8435 - val_loss: 0.1906 - val_accuracy: 0.9415\n",
            "Epoch 2/10\n",
            "469/469 [==============================] - 28s 59ms/step - loss: 0.1659 - accuracy: 0.9496 - val_loss: 0.1431 - val_accuracy: 0.9571\n",
            "Epoch 3/10\n",
            "469/469 [==============================] - 27s 58ms/step - loss: 0.1249 - accuracy: 0.9612 - val_loss: 0.1128 - val_accuracy: 0.9658\n",
            "Epoch 4/10\n",
            "469/469 [==============================] - 28s 59ms/step - loss: 0.1054 - accuracy: 0.9669 - val_loss: 0.1032 - val_accuracy: 0.9706\n",
            "Epoch 5/10\n",
            "469/469 [==============================] - 27s 58ms/step - loss: 0.0922 - accuracy: 0.9717 - val_loss: 0.0976 - val_accuracy: 0.9703\n",
            "Epoch 6/10\n",
            "469/469 [==============================] - 27s 58ms/step - loss: 0.0861 - accuracy: 0.9736 - val_loss: 0.0915 - val_accuracy: 0.9727\n",
            "Epoch 7/10\n",
            "469/469 [==============================] - 27s 57ms/step - loss: 0.0786 - accuracy: 0.9759 - val_loss: 0.0857 - val_accuracy: 0.9743\n",
            "Epoch 8/10\n",
            "469/469 [==============================] - 27s 57ms/step - loss: 0.0727 - accuracy: 0.9778 - val_loss: 0.0849 - val_accuracy: 0.9742\n",
            "Epoch 9/10\n",
            "469/469 [==============================] - 27s 57ms/step - loss: 0.0675 - accuracy: 0.9795 - val_loss: 0.0834 - val_accuracy: 0.9740\n",
            "Epoch 10/10\n",
            "469/469 [==============================] - 27s 58ms/step - loss: 0.0634 - accuracy: 0.9805 - val_loss: 0.0777 - val_accuracy: 0.9770\n"
          ]
        },
        {
          "output_type": "execute_result",
          "data": {
            "text/plain": [
              "<keras.callbacks.History at 0x7f8ec5c0aa40>"
            ]
          },
          "metadata": {},
          "execution_count": 23
        }
      ]
    },
    {
      "cell_type": "code",
      "source": [
        "score = model.evaluate(x_test,y_test)\n",
        "print('Test Loss:',score[0])\n",
        "print('Test Accuracy', score[1])"
      ],
      "metadata": {
        "colab": {
          "base_uri": "https://localhost:8080/"
        },
        "id": "x9lSYkDbz-zr",
        "outputId": "e2e68ccb-77ef-4fad-90ac-358f557f363f"
      },
      "execution_count": 24,
      "outputs": [
        {
          "output_type": "stream",
          "name": "stdout",
          "text": [
            "313/313 [==============================] - 2s 6ms/step - loss: 0.0777 - accuracy: 0.9770\n",
            "Test Loss: 0.07771021127700806\n",
            "Test Accuracy 0.9769999980926514\n"
          ]
        }
      ]
    },
    {
      "cell_type": "code",
      "source": [
        "prediction = model.predict(x_test)"
      ],
      "metadata": {
        "colab": {
          "base_uri": "https://localhost:8080/"
        },
        "id": "Ba1eCMKt1JIZ",
        "outputId": "38a51264-4347-4ead-d2a6-1996e9148d3a"
      },
      "execution_count": 25,
      "outputs": [
        {
          "output_type": "stream",
          "name": "stdout",
          "text": [
            "313/313 [==============================] - 3s 9ms/step\n"
          ]
        }
      ]
    },
    {
      "cell_type": "code",
      "source": [
        "import numpy as np\n",
        "pred_img = np.argmax(prediction[4])\n",
        "pred_img"
      ],
      "metadata": {
        "colab": {
          "base_uri": "https://localhost:8080/"
        },
        "id": "fkqqBJcq1LjZ",
        "outputId": "4dc8cc0a-2655-420c-a33a-2b1000aa6318"
      },
      "execution_count": 26,
      "outputs": [
        {
          "output_type": "execute_result",
          "data": {
            "text/plain": [
              "4"
            ]
          },
          "metadata": {},
          "execution_count": 26
        }
      ]
    },
    {
      "cell_type": "code",
      "source": [],
      "metadata": {
        "id": "QPkt48Fi1Nya"
      },
      "execution_count": null,
      "outputs": []
    }
  ]
}