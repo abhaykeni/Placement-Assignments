{
  "nbformat": 4,
  "nbformat_minor": 0,
  "metadata": {
    "colab": {
      "provenance": []
    },
    "kernelspec": {
      "name": "python3",
      "display_name": "Python 3"
    },
    "language_info": {
      "name": "python"
    }
  },
  "cells": [
    {
      "cell_type": "code",
      "execution_count": 2,
      "metadata": {
        "id": "8n2PJa4w1wll"
      },
      "outputs": [],
      "source": [
        "import tensorflow as tf\n",
        "from tensorflow import keras\n",
        "from keras.datasets import mnist\n",
        "from keras.layers import Dense, Flatten, Conv2D, MaxPooling2D\n",
        "from keras.models import Sequential"
      ]
    },
    {
      "cell_type": "code",
      "source": [
        "(x_train,y_train),(x_test,y_test) = mnist.load_data()"
      ],
      "metadata": {
        "colab": {
          "base_uri": "https://localhost:8080/"
        },
        "id": "6GjLsfdk10zq",
        "outputId": "330a65ed-680b-45be-97c9-c28f8f20a900"
      },
      "execution_count": 3,
      "outputs": [
        {
          "output_type": "stream",
          "name": "stdout",
          "text": [
            "Downloading data from https://storage.googleapis.com/tensorflow/tf-keras-datasets/mnist.npz\n",
            "11490434/11490434 [==============================] - 0s 0us/step\n"
          ]
        }
      ]
    },
    {
      "cell_type": "code",
      "source": [
        "x_train.shape"
      ],
      "metadata": {
        "colab": {
          "base_uri": "https://localhost:8080/"
        },
        "id": "NF46X3UP12dz",
        "outputId": "91ec969a-e0db-4486-d9fd-5b08a56f2c01"
      },
      "execution_count": 4,
      "outputs": [
        {
          "output_type": "execute_result",
          "data": {
            "text/plain": [
              "(60000, 28, 28)"
            ]
          },
          "metadata": {},
          "execution_count": 4
        }
      ]
    },
    {
      "cell_type": "code",
      "source": [
        "x_train = x_train.reshape(x_train.shape[0],28,28,1)\n",
        "x_test = x_test.reshape(x_test.shape[0],28,28,1)"
      ],
      "metadata": {
        "id": "SUW0pUaL135p"
      },
      "execution_count": 5,
      "outputs": []
    },
    {
      "cell_type": "code",
      "source": [
        "x_train = x_train/255\n",
        "x_test = x_test/255"
      ],
      "metadata": {
        "id": "8mC0TIX215TC"
      },
      "execution_count": 6,
      "outputs": []
    },
    {
      "cell_type": "code",
      "source": [
        "y_train = keras.utils.to_categorical(y_train, 10)\n",
        "y_test = keras.utils.to_categorical(y_test, 10)"
      ],
      "metadata": {
        "id": "-ukz8ZEs168I"
      },
      "execution_count": 7,
      "outputs": []
    },
    {
      "cell_type": "code",
      "source": [
        "model = Sequential()\n",
        "model.add(Conv2D(6,kernel_size=(5,5),padding='valid',activation='relu',input_shape=(28,28,1)))\n",
        "model.add(MaxPooling2D(pool_size=(3,3),strides=2,padding='valid'))\n",
        "\n",
        "model.add(Conv2D(12,kernel_size=(5,5),padding='valid',activation='relu'))\n",
        "model.add(MaxPooling2D(pool_size=(3,3),strides=2,padding='valid'))\n",
        "\n",
        "model.add(Flatten())\n",
        "model.add(Dense(50,activation='relu'))\n",
        "model.add(Dense(42,activation='relu'))\n",
        "model.add(Dense(10,activation='softmax'))\n",
        "\n",
        "model.summary()"
      ],
      "metadata": {
        "colab": {
          "base_uri": "https://localhost:8080/"
        },
        "id": "dav2Hqec2BCi",
        "outputId": "2ffa39f3-f0a1-401f-def5-918c9580bb74"
      },
      "execution_count": 21,
      "outputs": [
        {
          "output_type": "stream",
          "name": "stdout",
          "text": [
            "Model: \"sequential_11\"\n",
            "_________________________________________________________________\n",
            " Layer (type)                Output Shape              Param #   \n",
            "=================================================================\n",
            " conv2d_22 (Conv2D)          (None, 24, 24, 6)         156       \n",
            "                                                                 \n",
            " max_pooling2d_22 (MaxPoolin  (None, 11, 11, 6)        0         \n",
            " g2D)                                                            \n",
            "                                                                 \n",
            " conv2d_23 (Conv2D)          (None, 7, 7, 12)          1812      \n",
            "                                                                 \n",
            " max_pooling2d_23 (MaxPoolin  (None, 3, 3, 12)         0         \n",
            " g2D)                                                            \n",
            "                                                                 \n",
            " flatten_11 (Flatten)        (None, 108)               0         \n",
            "                                                                 \n",
            " dense_33 (Dense)            (None, 50)                5450      \n",
            "                                                                 \n",
            " dense_34 (Dense)            (None, 42)                2142      \n",
            "                                                                 \n",
            " dense_35 (Dense)            (None, 10)                430       \n",
            "                                                                 \n",
            "=================================================================\n",
            "Total params: 9,990\n",
            "Trainable params: 9,990\n",
            "Non-trainable params: 0\n",
            "_________________________________________________________________\n"
          ]
        }
      ]
    },
    {
      "cell_type": "code",
      "source": [
        "model.compile(optimizer=keras.optimizers.Adam(),loss=keras.metrics.categorical_crossentropy,metrics=['accuracy'])"
      ],
      "metadata": {
        "id": "tgiywMz72Ppc"
      },
      "execution_count": 22,
      "outputs": []
    },
    {
      "cell_type": "code",
      "source": [
        "model.fit(x_train,y_train,batch_size=128,epochs=25,verbose=1,validation_data=(x_test,y_test))"
      ],
      "metadata": {
        "colab": {
          "base_uri": "https://localhost:8080/"
        },
        "id": "DOqEsUC-3oX5",
        "outputId": "54d985b9-9002-4df7-9a5b-171ee1b9870f"
      },
      "execution_count": 23,
      "outputs": [
        {
          "output_type": "stream",
          "name": "stdout",
          "text": [
            "Epoch 1/25\n",
            "469/469 [==============================] - 28s 58ms/step - loss: 0.4509 - accuracy: 0.8596 - val_loss: 0.1060 - val_accuracy: 0.9690\n",
            "Epoch 2/25\n",
            "469/469 [==============================] - 26s 55ms/step - loss: 0.1059 - accuracy: 0.9678 - val_loss: 0.0654 - val_accuracy: 0.9802\n",
            "Epoch 3/25\n",
            "469/469 [==============================] - 27s 59ms/step - loss: 0.0792 - accuracy: 0.9751 - val_loss: 0.0590 - val_accuracy: 0.9822\n",
            "Epoch 4/25\n",
            "469/469 [==============================] - 26s 56ms/step - loss: 0.0676 - accuracy: 0.9792 - val_loss: 0.0740 - val_accuracy: 0.9773\n",
            "Epoch 5/25\n",
            "469/469 [==============================] - 27s 57ms/step - loss: 0.0600 - accuracy: 0.9815 - val_loss: 0.0564 - val_accuracy: 0.9818\n",
            "Epoch 6/25\n",
            "469/469 [==============================] - 26s 56ms/step - loss: 0.0551 - accuracy: 0.9833 - val_loss: 0.0656 - val_accuracy: 0.9787\n",
            "Epoch 7/25\n",
            "469/469 [==============================] - 27s 57ms/step - loss: 0.0473 - accuracy: 0.9848 - val_loss: 0.0455 - val_accuracy: 0.9846\n",
            "Epoch 8/25\n",
            "469/469 [==============================] - 27s 57ms/step - loss: 0.0477 - accuracy: 0.9852 - val_loss: 0.0464 - val_accuracy: 0.9857\n",
            "Epoch 9/25\n",
            "469/469 [==============================] - 26s 56ms/step - loss: 0.0422 - accuracy: 0.9870 - val_loss: 0.0511 - val_accuracy: 0.9846\n",
            "Epoch 10/25\n",
            "469/469 [==============================] - 26s 56ms/step - loss: 0.0402 - accuracy: 0.9876 - val_loss: 0.0431 - val_accuracy: 0.9871\n",
            "Epoch 11/25\n",
            "469/469 [==============================] - 26s 56ms/step - loss: 0.0386 - accuracy: 0.9878 - val_loss: 0.0398 - val_accuracy: 0.9880\n",
            "Epoch 12/25\n",
            "469/469 [==============================] - 26s 56ms/step - loss: 0.0354 - accuracy: 0.9885 - val_loss: 0.0436 - val_accuracy: 0.9867\n",
            "Epoch 13/25\n",
            "469/469 [==============================] - 26s 56ms/step - loss: 0.0340 - accuracy: 0.9894 - val_loss: 0.0395 - val_accuracy: 0.9879\n",
            "Epoch 14/25\n",
            "469/469 [==============================] - 26s 56ms/step - loss: 0.0321 - accuracy: 0.9896 - val_loss: 0.0364 - val_accuracy: 0.9889\n",
            "Epoch 15/25\n",
            "469/469 [==============================] - 26s 56ms/step - loss: 0.0305 - accuracy: 0.9901 - val_loss: 0.0363 - val_accuracy: 0.9892\n",
            "Epoch 16/25\n",
            "469/469 [==============================] - 26s 56ms/step - loss: 0.0286 - accuracy: 0.9906 - val_loss: 0.0423 - val_accuracy: 0.9876\n",
            "Epoch 17/25\n",
            "469/469 [==============================] - 26s 56ms/step - loss: 0.0283 - accuracy: 0.9909 - val_loss: 0.0403 - val_accuracy: 0.9879\n",
            "Epoch 18/25\n",
            "469/469 [==============================] - 26s 56ms/step - loss: 0.0261 - accuracy: 0.9912 - val_loss: 0.0356 - val_accuracy: 0.9896\n",
            "Epoch 19/25\n",
            "469/469 [==============================] - 26s 56ms/step - loss: 0.0264 - accuracy: 0.9915 - val_loss: 0.0364 - val_accuracy: 0.9890\n",
            "Epoch 20/25\n",
            "469/469 [==============================] - 27s 57ms/step - loss: 0.0230 - accuracy: 0.9925 - val_loss: 0.0365 - val_accuracy: 0.9896\n",
            "Epoch 21/25\n",
            "469/469 [==============================] - 26s 56ms/step - loss: 0.0234 - accuracy: 0.9919 - val_loss: 0.0474 - val_accuracy: 0.9865\n",
            "Epoch 22/25\n",
            "469/469 [==============================] - 26s 56ms/step - loss: 0.0224 - accuracy: 0.9924 - val_loss: 0.0414 - val_accuracy: 0.9876\n",
            "Epoch 23/25\n",
            "469/469 [==============================] - 27s 57ms/step - loss: 0.0194 - accuracy: 0.9937 - val_loss: 0.0424 - val_accuracy: 0.9883\n",
            "Epoch 24/25\n",
            "469/469 [==============================] - 26s 56ms/step - loss: 0.0188 - accuracy: 0.9938 - val_loss: 0.0407 - val_accuracy: 0.9883\n",
            "Epoch 25/25\n",
            "469/469 [==============================] - 26s 56ms/step - loss: 0.0187 - accuracy: 0.9940 - val_loss: 0.0396 - val_accuracy: 0.9894\n"
          ]
        },
        {
          "output_type": "execute_result",
          "data": {
            "text/plain": [
              "<keras.callbacks.History at 0x7f3adc6cf940>"
            ]
          },
          "metadata": {},
          "execution_count": 23
        }
      ]
    },
    {
      "cell_type": "code",
      "source": [
        "score = model.evaluate(x_test,y_test)\n",
        "print('Test Loss:',score[0])\n",
        "print('Test Accuracy', score[1])"
      ],
      "metadata": {
        "colab": {
          "base_uri": "https://localhost:8080/"
        },
        "id": "RgPq-BgW3qJS",
        "outputId": "5e37301f-e68e-4092-9497-e7260ee1c6c3"
      },
      "execution_count": 24,
      "outputs": [
        {
          "output_type": "stream",
          "name": "stdout",
          "text": [
            "313/313 [==============================] - 2s 6ms/step - loss: 0.0396 - accuracy: 0.9894\n",
            "Test Loss: 0.039555490016937256\n",
            "Test Accuracy 0.9894000291824341\n"
          ]
        }
      ]
    },
    {
      "cell_type": "code",
      "source": [
        "prediction = model.predict(x_test)"
      ],
      "metadata": {
        "colab": {
          "base_uri": "https://localhost:8080/"
        },
        "id": "nKV94zIA6QHb",
        "outputId": "e55d7c68-f8ad-4b78-da0a-a318bb14ff71"
      },
      "execution_count": 25,
      "outputs": [
        {
          "output_type": "stream",
          "name": "stdout",
          "text": [
            "313/313 [==============================] - 2s 6ms/step\n"
          ]
        }
      ]
    },
    {
      "cell_type": "code",
      "source": [
        "import numpy as np\n",
        "pred_img = np.argmax(prediction[4])\n",
        "pred_img"
      ],
      "metadata": {
        "colab": {
          "base_uri": "https://localhost:8080/"
        },
        "id": "_5qLD4OO6SV7",
        "outputId": "05a5acef-1db0-491a-9830-79e75522db9f"
      },
      "execution_count": 26,
      "outputs": [
        {
          "output_type": "execute_result",
          "data": {
            "text/plain": [
              "4"
            ]
          },
          "metadata": {},
          "execution_count": 26
        }
      ]
    },
    {
      "cell_type": "code",
      "source": [],
      "metadata": {
        "id": "bjREnOrX6Uai"
      },
      "execution_count": null,
      "outputs": []
    }
  ]
}