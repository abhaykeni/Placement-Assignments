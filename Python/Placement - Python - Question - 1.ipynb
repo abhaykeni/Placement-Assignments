{
 "cells": [
  {
   "cell_type": "markdown",
   "id": "5b674f8d",
   "metadata": {},
   "source": [
    "# Question 1: -\n",
    "Write a program that takes a string as input, and counts the frequency of each word in the string, there might\n",
    "be repeated characters in the string. Your task is to find the highest frequency and returns the length of the\n",
    "highest-frequency word.\n",
    "\n",
    "Note - You have to write at least 2 additional test cases in which your program will run successfully and provide\n",
    "an explanation for the same.\n",
    "\n",
    "Example input - string = “write write write all the number from from from 1 to 100”\n",
    "Example output - 5\n",
    "\n",
    "Explanation - From the given string we can note that the most frequent words are “write” and “from” and\n",
    "the maximum value of both the values is “write” and its corresponding length is 5"
   ]
  },
  {
   "cell_type": "code",
   "execution_count": 30,
   "id": "097b959e",
   "metadata": {},
   "outputs": [],
   "source": [
    "def count_length():    \n",
    "    string = input(\"Input String:\")\n",
    "    lists = string.split()\n",
    "    sets = set(lists)\n",
    "    maxx = 0\n",
    "    maxx_len = 0\n",
    "    l = []\n",
    "    for i in sets:\n",
    "        count = 0\n",
    "        for x in lists:\n",
    "            if i == x:\n",
    "                count = count + 1\n",
    "        if count > maxx:\n",
    "            maxx = count\n",
    "            maxx_len = len(i)\n",
    "        if count == maxx:\n",
    "            if maxx_len < len(i):\n",
    "                maxx_len = len(i)\n",
    "\n",
    "    print(\"Length of the most frequent string is:\",maxx_len)"
   ]
  },
  {
   "cell_type": "code",
   "execution_count": 33,
   "id": "e6521ca5",
   "metadata": {},
   "outputs": [
    {
     "name": "stdout",
     "output_type": "stream",
     "text": [
      "Input String:write write write all the number from from from 1 to 100\n",
      "Length of the most frequent string is: 5\n"
     ]
    }
   ],
   "source": [
    "#Test Case - 1\n",
    "count_length()"
   ]
  },
  {
   "cell_type": "markdown",
   "id": "ccc9dbdf",
   "metadata": {},
   "source": [
    "Explanation - From the given string we can note that the most frequent words are “write” and “from” and\n",
    "the maximum value of both the values is “write” and its corresponding length is 5"
   ]
  },
  {
   "cell_type": "code",
   "execution_count": 32,
   "id": "a72704a8",
   "metadata": {},
   "outputs": [
    {
     "name": "stdout",
     "output_type": "stream",
     "text": [
      "Input String:Hi Hi Hi Hello Hello Hello Bye Bye Bye\n",
      "Length of the most frequent string is: 5\n"
     ]
    }
   ],
   "source": [
    "# Test Case - 2\n",
    "count_length()"
   ]
  },
  {
   "cell_type": "markdown",
   "id": "01e3eaab",
   "metadata": {},
   "source": [
    "Explanation - From the given string we can note that frequency of all words are same but since Hello is the largest the length of Hello is printed i.e. 5"
   ]
  },
  {
   "cell_type": "code",
   "execution_count": 31,
   "id": "934ac8fd",
   "metadata": {},
   "outputs": [
    {
     "name": "stdout",
     "output_type": "stream",
     "text": [
      "Input String:How are you nice to me you there\n",
      "Length of the most frequent string is: 3\n"
     ]
    }
   ],
   "source": [
    "# Test Case - 3\n",
    "count_length()"
   ]
  },
  {
   "cell_type": "markdown",
   "id": "7f8e2caf",
   "metadata": {},
   "source": [
    "Explanation - From the given string we can note that frequency of \"you\" is maximum hence the corresponding length of \"you\" is printed i.e. 3"
   ]
  },
  {
   "cell_type": "code",
   "execution_count": null,
   "id": "aead3c2d",
   "metadata": {},
   "outputs": [],
   "source": []
  }
 ],
 "metadata": {
  "kernelspec": {
   "display_name": "Python 3 (ipykernel)",
   "language": "python",
   "name": "python3"
  },
  "language_info": {
   "codemirror_mode": {
    "name": "ipython",
    "version": 3
   },
   "file_extension": ".py",
   "mimetype": "text/x-python",
   "name": "python",
   "nbconvert_exporter": "python",
   "pygments_lexer": "ipython3",
   "version": "3.9.12"
  }
 },
 "nbformat": 4,
 "nbformat_minor": 5
}
